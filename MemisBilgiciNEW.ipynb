!pip install biopython scikit-learn

import pandas as pd
import numpy as np
import matplotlib.pyplot as plt

from Bio import SeqIO
from Bio.Seq import Seq
from Bio.Data import CodonTable
from Bio.SeqUtils.ProtParam import ProteinAnalysis
from sklearn.decomposition import PCA


def get_sequences_from_file(fasta_fn):
    """
    Read a FASTA file of cytochrome-b sequences and return a dict mapping
    species name ("Genus species") → Bio.Seq.Seq object.
    
    Args:
        fasta_fn (str): path to the FASTA file.
    
    Returns:
        dict[str, Seq]: keys are species names, values are Seq objects.
    """
    sequence_data_dict = {}  # Initialize empty dict
    for record in SeqIO.parse(fasta_fn, "fasta"):
        # record.description looks like: ">accession Genus species ..."
        parts = record.description.split()
        species_name = f"{parts[1]} {parts[2]}"  # e.g. "Aptenodytes forsteri"
        sequence_data_dict[species_name] = record.seq
    return sequence_data_dict


def translate_manual(dna_seq):
    """
    Translate a DNA sequence to amino acids by manually looping through codons,
    using the Vertebrate Mitochondrial code, and dropping a terminal stop if present.
    
    Args:
        dna_seq (Seq or str): nucleotide sequence.
    
    Returns:
        str: translated amino acid string.
    """
    mito = CodonTable.unambiguous_dna_by_name["Vertebrate Mitochondrial"]
    seq_str = str(dna_seq).upper()
    aa_list = []
    # Loop over full codons only
    for i in range(0, (len(seq_str)//3)*3, 3):
        codon = seq_str[i:i+3]
        # If this codon is a stop at the very end, break
        if i+3 == len(seq_str) and codon in mito.stop_codons:
            break
        # Map to amino acid, default 'X' if unknown
        aa_list.append(mito.forward_table.get(codon, 'X'))
    return "".join(aa_list)


def translate_biopython(dna_seq):
    """
    Translate using Biopython's built-in translate with Vertebrate Mito code.
    Stops at the first stop codon encountered.
    
    Args:
        dna_seq (Seq or str): nucleotide sequence.
    
    Returns:
        str: translated amino acid string.
    """
    return str(Seq(str(dna_seq)).translate(
        table="Vertebrate Mitochondrial", to_stop=True))


def compute_molecular_weight(aa_seq):
    """
    Compute molecular weight of a protein sequence using Bio.SeqUtils.ProtParam.
    
    Args:
        aa_seq (str): amino acid sequence (no '*' characters).
    
    Returns:
        float: molecular weight in Daltons.
    """
    analysed = ProteinAnalysis(aa_seq)
    return analysed.molecular_weight()


def compute_gc_content(dna_seq):
    """
    Compute GC-content (fraction of G + C) of a DNA sequence.
    
    Args:
        dna_seq (Seq or str): nucleotide sequence.
    
    Returns:
        float: GC-content (0–1).
    """
    s = str(dna_seq).upper()
    return (s.count('G') + s.count('C')) / len(s)


cytb_seqs = get_sequences_from_file("penguins_cytb.fasta")
penguins_df = pd.read_csv("penguins_mass.csv")


penguins_df["molecular_weight"] = np.nan
penguins_df["gc_content"] = np.nan



for idx, row in penguins_df.iterrows():
    sp = row["species"]
    seq = cytb_seqs.get(sp)
    if seq is None:
        continue  # skip if no sequence
    aa = translate_biopython(seq)            # choose either method
    penguins_df.at[idx, "molecular_weight"] = compute_molecular_weight(aa)
    penguins_df.at[idx, "gc_content"]       = compute_gc_content(seq)



plt.figure(figsize=(10,5))
mass_sorted = penguins_df.set_index("species")["mass"].sort_values()
mass_sorted.plot(kind="bar")
plt.ylabel("Mass (kg)")
plt.title("Penguin Adult Body Mass by Species")
plt.xticks(rotation=45, ha="right")
plt.tight_layout()
plt.show()



> Southern rockhopper penguin (_Eudyptes chrysocome_), mean adult mass = 2.80 kg.

smallest_idx     = penguins_df["mass"].idxmin()
smallest_species = penguins_df.loc[smallest_idx, "species"]
smallest_mass    = penguins_df.loc[smallest_idx, "mass"]
print(smallest_species, smallest_mass)

penguins_df.to_csv("penguins_mass_cytb.csv", index=False)
print("Saved penguins_mass_cytb.csv")









